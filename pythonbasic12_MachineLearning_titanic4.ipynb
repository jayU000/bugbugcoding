{
  "nbformat": 4,
  "nbformat_minor": 0,
  "metadata": {
    "colab": {
      "name": "pythonbasic12_MachineLearning_titanic4.ipynb",
      "provenance": [],
      "collapsed_sections": [],
      "authorship_tag": "ABX9TyPQ7l4K/YIPuUmd4tLWID6M",
      "include_colab_link": true
    },
    "kernelspec": {
      "name": "python3",
      "display_name": "Python 3"
    },
    "language_info": {
      "name": "python"
    }
  },
  "cells": [
    {
      "cell_type": "markdown",
      "metadata": {
        "id": "view-in-github",
        "colab_type": "text"
      },
      "source": [
        "<a href=\"https://colab.research.google.com/github/jayU000/bugbugcoding/blob/master/pythonbasic12_MachineLearning_titanic4.ipynb\" target=\"_parent\"><img src=\"https://colab.research.google.com/assets/colab-badge.svg\" alt=\"Open In Colab\"/></a>"
      ]
    },
    {
      "cell_type": "code",
      "execution_count": 13,
      "metadata": {
        "colab": {
          "base_uri": "https://localhost:8080/"
        },
        "id": "GAarOnNtKJRG",
        "outputId": "d3be24a2-e348-4103-d3e4-8f7a79873765"
      },
      "outputs": [
        {
          "output_type": "stream",
          "name": "stdout",
          "text": [
            "Drive already mounted at /gdrive/; to attempt to forcibly remount, call drive.mount(\"/gdrive/\", force_remount=True).\n"
          ]
        }
      ],
      "source": [
        "# G 드라이브 연결\n",
        "from google.colab import drive\n",
        "drive.mount('/gdrive/')\n",
        "\n",
        "# 모듈 설정\n",
        "import pandas as pd\n",
        "import numpy as np \n",
        "import matplotlib.pyplot as plt\n",
        "import seaborn as sns\n",
        "\n",
        "# https://dacon.io/competitions/open/235539/data\n",
        "\n",
        "train = pd.read_csv('/gdrive/My Drive/Colab Notebooks/titanic/train.csv')\n",
        "test = pd.read_csv('/gdrive/My Drive/Colab Notebooks/titanic/test.csv')\n",
        "submission = pd.read_csv('/gdrive/My Drive/Colab Notebooks/titanic/submission.csv')\n",
        "\n",
        "# 데이터 결합 (위 아래 방향으로 결합)\n",
        "\n",
        "# 분석을 끝내고 학습을 시킬때 다시 분리 하기 편하도록 split  열을 만들어 각각 이름을 부여한다. \n",
        "train['Split'] = 'Train'\n",
        "test['Split'] = 'Test'\n",
        "\n",
        "data = pd.concat([train, test], axis=0)\n",
        "\n",
        "data_num = data.loc[:,['Pclass','Age','SibSp','Parch','Fare','Survived']] \n",
        "\n",
        "# age  평균\n",
        "data_num['Age'] = data_num['Age'].fillna(data_num['Age'].mean())\n",
        "\n",
        "# fare 최빈\n",
        "data_num['Fare'] = data_num['Fare'].fillna(data_num['Fare'].mode()[0])\n"
      ]
    },
    {
      "cell_type": "code",
      "source": [
        "# 피처 엔지니어링 - 각 피처 열을 모델 학습에 맞게 전처리하고 data['Sex']\n",
        "print(data['Sex'])\n",
        "\n",
        "# female 0  male 1\n",
        "data.loc[data['Sex']=='female','Sex'] = 0\n",
        "data.loc[data['Sex']=='male','Sex'] = 1\n",
        "\n",
        "print(data['Sex'])\n",
        "\n",
        "# 정수형으로 형변환\n",
        "data['Sex'] = data['Sex'].astype(int)\n",
        "data['Sex']"
      ],
      "metadata": {
        "colab": {
          "base_uri": "https://localhost:8080/"
        },
        "id": "Z_wel-6_c0dc",
        "outputId": "78130cc4-e0ad-4cc9-9666-efdb4020d42e"
      },
      "execution_count": 14,
      "outputs": [
        {
          "output_type": "stream",
          "name": "stdout",
          "text": [
            "0        male\n",
            "1      female\n",
            "2      female\n",
            "3      female\n",
            "4        male\n",
            "        ...  \n",
            "413      male\n",
            "414    female\n",
            "415      male\n",
            "416      male\n",
            "417      male\n",
            "Name: Sex, Length: 1309, dtype: object\n",
            "0      1\n",
            "1      0\n",
            "2      0\n",
            "3      0\n",
            "4      1\n",
            "      ..\n",
            "413    1\n",
            "414    0\n",
            "415    1\n",
            "416    1\n",
            "417    1\n",
            "Name: Sex, Length: 1309, dtype: object\n"
          ]
        },
        {
          "output_type": "execute_result",
          "data": {
            "text/plain": [
              "0      1\n",
              "1      0\n",
              "2      0\n",
              "3      0\n",
              "4      1\n",
              "      ..\n",
              "413    1\n",
              "414    0\n",
              "415    1\n",
              "416    1\n",
              "417    1\n",
              "Name: Sex, Length: 1309, dtype: int64"
            ]
          },
          "metadata": {},
          "execution_count": 14
        }
      ]
    },
    {
      "cell_type": "code",
      "source": [
        "# Name\n",
        "print(data['Name'])\n",
        "\n",
        "# 시리즈 데이터형을 str로 변환하여 자르고 인덱싱\n",
        "# title = title_name.str.split(\",\", expand=True)[0]         # 오류 발생 코드\n",
        "                                                            # 오류 발생 원인 : \",\" -> 쉼표 뒤에 띄어쓰기가 빠졌음...\n",
        "\n",
        "title_name = data['Name'].str.split(\", \", expand=True)[1]\n",
        "# 띄어 쓰기 주의... : 쉼표 뒤에 한칸 있음\n",
        "\n",
        "\n",
        "# 시리즈 데이터형을 str로 변환하여 자르고 인덱싱\n",
        "title = title_name.str.split(\".\", expand=True)[0]\n",
        "print(title.value_counts(dropna=False))\n",
        "\n",
        "# 비슷한 속성을 가진 타이틀 들을 그룹으로 묶자. \n",
        "title = title.replace(['Ms'], 'Miss')\n",
        "title = title.replace(['Mlle', 'the Countess', 'Lady', 'Don', 'Dona', 'Mme', 'Sir', 'Jonkheer'], 'Noble')\n",
        "title = title.replace(['Col', 'Major', 'Capt'], 'Officer')\n",
        "title = title.replace(['Dr', 'Rev'], 'Priest')\n",
        "data['Title'] = np.array(title)\n",
        "print(data['Title'].value_counts(dropna=False))\n",
        "\n",
        "\n",
        "# Title 열을 만들었으므로 필요 없어진 name 열은 삭제한다. \n",
        "data= data.drop('Name', axis=1)\n",
        "data"
      ],
      "metadata": {
        "colab": {
          "base_uri": "https://localhost:8080/",
          "height": 1000
        },
        "id": "_EF1nYvFc0gG",
        "outputId": "b8a31787-a205-43ff-de52-0e85b31f07c5"
      },
      "execution_count": 15,
      "outputs": [
        {
          "output_type": "stream",
          "name": "stdout",
          "text": [
            "0                                Braund, Mr. Owen Harris\n",
            "1      Cumings, Mrs. John Bradley (Florence Briggs Th...\n",
            "2                                 Heikkinen, Miss. Laina\n",
            "3           Futrelle, Mrs. Jacques Heath (Lily May Peel)\n",
            "4                               Allen, Mr. William Henry\n",
            "                             ...                        \n",
            "413                                   Spector, Mr. Woolf\n",
            "414                         Oliva y Ocana, Dona. Fermina\n",
            "415                         Saether, Mr. Simon Sivertsen\n",
            "416                                  Ware, Mr. Frederick\n",
            "417                             Peter, Master. Michael J\n",
            "Name: Name, Length: 1309, dtype: object\n",
            "Mr              757\n",
            "Miss            260\n",
            "Mrs             197\n",
            "Master           61\n",
            "Rev               8\n",
            "Dr                8\n",
            "Col               4\n",
            "Mlle              2\n",
            "Major             2\n",
            "Ms                2\n",
            "Lady              1\n",
            "Sir               1\n",
            "Mme               1\n",
            "Don               1\n",
            "Capt              1\n",
            "the Countess      1\n",
            "Jonkheer          1\n",
            "Dona              1\n",
            "Name: 0, dtype: int64\n",
            "Mr         757\n",
            "Miss       262\n",
            "Mrs        197\n",
            "Master      61\n",
            "Priest      16\n",
            "Noble        9\n",
            "Officer      7\n",
            "Name: Title, dtype: int64\n"
          ]
        },
        {
          "output_type": "execute_result",
          "data": {
            "text/plain": [
              "     PassengerId  Survived  Pclass  Sex   Age  SibSp  Parch  \\\n",
              "0              1       0.0       3    1  22.0      1      0   \n",
              "1              2       1.0       1    0  38.0      1      0   \n",
              "2              3       1.0       3    0  26.0      0      0   \n",
              "3              4       1.0       1    0  35.0      1      0   \n",
              "4              5       0.0       3    1  35.0      0      0   \n",
              "..           ...       ...     ...  ...   ...    ...    ...   \n",
              "413         1305       NaN       3    1   NaN      0      0   \n",
              "414         1306       NaN       1    0  39.0      0      0   \n",
              "415         1307       NaN       3    1  38.5      0      0   \n",
              "416         1308       NaN       3    1   NaN      0      0   \n",
              "417         1309       NaN       3    1   NaN      1      1   \n",
              "\n",
              "                 Ticket      Fare Cabin Embarked  Split   Title  \n",
              "0             A/5 21171    7.2500   NaN        S  Train      Mr  \n",
              "1              PC 17599   71.2833   C85        C  Train     Mrs  \n",
              "2      STON/O2. 3101282    7.9250   NaN        S  Train    Miss  \n",
              "3                113803   53.1000  C123        S  Train     Mrs  \n",
              "4                373450    8.0500   NaN        S  Train      Mr  \n",
              "..                  ...       ...   ...      ...    ...     ...  \n",
              "413           A.5. 3236    8.0500   NaN        S   Test      Mr  \n",
              "414            PC 17758  108.9000  C105        C   Test   Noble  \n",
              "415  SOTON/O.Q. 3101262    7.2500   NaN        S   Test      Mr  \n",
              "416              359309    8.0500   NaN        S   Test      Mr  \n",
              "417                2668   22.3583   NaN        C   Test  Master  \n",
              "\n",
              "[1309 rows x 13 columns]"
            ],
            "text/html": [
              "\n",
              "  <div id=\"df-dd98c255-9104-4e9c-a6fb-67bd6fe29034\">\n",
              "    <div class=\"colab-df-container\">\n",
              "      <div>\n",
              "<style scoped>\n",
              "    .dataframe tbody tr th:only-of-type {\n",
              "        vertical-align: middle;\n",
              "    }\n",
              "\n",
              "    .dataframe tbody tr th {\n",
              "        vertical-align: top;\n",
              "    }\n",
              "\n",
              "    .dataframe thead th {\n",
              "        text-align: right;\n",
              "    }\n",
              "</style>\n",
              "<table border=\"1\" class=\"dataframe\">\n",
              "  <thead>\n",
              "    <tr style=\"text-align: right;\">\n",
              "      <th></th>\n",
              "      <th>PassengerId</th>\n",
              "      <th>Survived</th>\n",
              "      <th>Pclass</th>\n",
              "      <th>Sex</th>\n",
              "      <th>Age</th>\n",
              "      <th>SibSp</th>\n",
              "      <th>Parch</th>\n",
              "      <th>Ticket</th>\n",
              "      <th>Fare</th>\n",
              "      <th>Cabin</th>\n",
              "      <th>Embarked</th>\n",
              "      <th>Split</th>\n",
              "      <th>Title</th>\n",
              "    </tr>\n",
              "  </thead>\n",
              "  <tbody>\n",
              "    <tr>\n",
              "      <th>0</th>\n",
              "      <td>1</td>\n",
              "      <td>0.0</td>\n",
              "      <td>3</td>\n",
              "      <td>1</td>\n",
              "      <td>22.0</td>\n",
              "      <td>1</td>\n",
              "      <td>0</td>\n",
              "      <td>A/5 21171</td>\n",
              "      <td>7.2500</td>\n",
              "      <td>NaN</td>\n",
              "      <td>S</td>\n",
              "      <td>Train</td>\n",
              "      <td>Mr</td>\n",
              "    </tr>\n",
              "    <tr>\n",
              "      <th>1</th>\n",
              "      <td>2</td>\n",
              "      <td>1.0</td>\n",
              "      <td>1</td>\n",
              "      <td>0</td>\n",
              "      <td>38.0</td>\n",
              "      <td>1</td>\n",
              "      <td>0</td>\n",
              "      <td>PC 17599</td>\n",
              "      <td>71.2833</td>\n",
              "      <td>C85</td>\n",
              "      <td>C</td>\n",
              "      <td>Train</td>\n",
              "      <td>Mrs</td>\n",
              "    </tr>\n",
              "    <tr>\n",
              "      <th>2</th>\n",
              "      <td>3</td>\n",
              "      <td>1.0</td>\n",
              "      <td>3</td>\n",
              "      <td>0</td>\n",
              "      <td>26.0</td>\n",
              "      <td>0</td>\n",
              "      <td>0</td>\n",
              "      <td>STON/O2. 3101282</td>\n",
              "      <td>7.9250</td>\n",
              "      <td>NaN</td>\n",
              "      <td>S</td>\n",
              "      <td>Train</td>\n",
              "      <td>Miss</td>\n",
              "    </tr>\n",
              "    <tr>\n",
              "      <th>3</th>\n",
              "      <td>4</td>\n",
              "      <td>1.0</td>\n",
              "      <td>1</td>\n",
              "      <td>0</td>\n",
              "      <td>35.0</td>\n",
              "      <td>1</td>\n",
              "      <td>0</td>\n",
              "      <td>113803</td>\n",
              "      <td>53.1000</td>\n",
              "      <td>C123</td>\n",
              "      <td>S</td>\n",
              "      <td>Train</td>\n",
              "      <td>Mrs</td>\n",
              "    </tr>\n",
              "    <tr>\n",
              "      <th>4</th>\n",
              "      <td>5</td>\n",
              "      <td>0.0</td>\n",
              "      <td>3</td>\n",
              "      <td>1</td>\n",
              "      <td>35.0</td>\n",
              "      <td>0</td>\n",
              "      <td>0</td>\n",
              "      <td>373450</td>\n",
              "      <td>8.0500</td>\n",
              "      <td>NaN</td>\n",
              "      <td>S</td>\n",
              "      <td>Train</td>\n",
              "      <td>Mr</td>\n",
              "    </tr>\n",
              "    <tr>\n",
              "      <th>...</th>\n",
              "      <td>...</td>\n",
              "      <td>...</td>\n",
              "      <td>...</td>\n",
              "      <td>...</td>\n",
              "      <td>...</td>\n",
              "      <td>...</td>\n",
              "      <td>...</td>\n",
              "      <td>...</td>\n",
              "      <td>...</td>\n",
              "      <td>...</td>\n",
              "      <td>...</td>\n",
              "      <td>...</td>\n",
              "      <td>...</td>\n",
              "    </tr>\n",
              "    <tr>\n",
              "      <th>413</th>\n",
              "      <td>1305</td>\n",
              "      <td>NaN</td>\n",
              "      <td>3</td>\n",
              "      <td>1</td>\n",
              "      <td>NaN</td>\n",
              "      <td>0</td>\n",
              "      <td>0</td>\n",
              "      <td>A.5. 3236</td>\n",
              "      <td>8.0500</td>\n",
              "      <td>NaN</td>\n",
              "      <td>S</td>\n",
              "      <td>Test</td>\n",
              "      <td>Mr</td>\n",
              "    </tr>\n",
              "    <tr>\n",
              "      <th>414</th>\n",
              "      <td>1306</td>\n",
              "      <td>NaN</td>\n",
              "      <td>1</td>\n",
              "      <td>0</td>\n",
              "      <td>39.0</td>\n",
              "      <td>0</td>\n",
              "      <td>0</td>\n",
              "      <td>PC 17758</td>\n",
              "      <td>108.9000</td>\n",
              "      <td>C105</td>\n",
              "      <td>C</td>\n",
              "      <td>Test</td>\n",
              "      <td>Noble</td>\n",
              "    </tr>\n",
              "    <tr>\n",
              "      <th>415</th>\n",
              "      <td>1307</td>\n",
              "      <td>NaN</td>\n",
              "      <td>3</td>\n",
              "      <td>1</td>\n",
              "      <td>38.5</td>\n",
              "      <td>0</td>\n",
              "      <td>0</td>\n",
              "      <td>SOTON/O.Q. 3101262</td>\n",
              "      <td>7.2500</td>\n",
              "      <td>NaN</td>\n",
              "      <td>S</td>\n",
              "      <td>Test</td>\n",
              "      <td>Mr</td>\n",
              "    </tr>\n",
              "    <tr>\n",
              "      <th>416</th>\n",
              "      <td>1308</td>\n",
              "      <td>NaN</td>\n",
              "      <td>3</td>\n",
              "      <td>1</td>\n",
              "      <td>NaN</td>\n",
              "      <td>0</td>\n",
              "      <td>0</td>\n",
              "      <td>359309</td>\n",
              "      <td>8.0500</td>\n",
              "      <td>NaN</td>\n",
              "      <td>S</td>\n",
              "      <td>Test</td>\n",
              "      <td>Mr</td>\n",
              "    </tr>\n",
              "    <tr>\n",
              "      <th>417</th>\n",
              "      <td>1309</td>\n",
              "      <td>NaN</td>\n",
              "      <td>3</td>\n",
              "      <td>1</td>\n",
              "      <td>NaN</td>\n",
              "      <td>1</td>\n",
              "      <td>1</td>\n",
              "      <td>2668</td>\n",
              "      <td>22.3583</td>\n",
              "      <td>NaN</td>\n",
              "      <td>C</td>\n",
              "      <td>Test</td>\n",
              "      <td>Master</td>\n",
              "    </tr>\n",
              "  </tbody>\n",
              "</table>\n",
              "<p>1309 rows × 13 columns</p>\n",
              "</div>\n",
              "      <button class=\"colab-df-convert\" onclick=\"convertToInteractive('df-dd98c255-9104-4e9c-a6fb-67bd6fe29034')\"\n",
              "              title=\"Convert this dataframe to an interactive table.\"\n",
              "              style=\"display:none;\">\n",
              "        \n",
              "  <svg xmlns=\"http://www.w3.org/2000/svg\" height=\"24px\"viewBox=\"0 0 24 24\"\n",
              "       width=\"24px\">\n",
              "    <path d=\"M0 0h24v24H0V0z\" fill=\"none\"/>\n",
              "    <path d=\"M18.56 5.44l.94 2.06.94-2.06 2.06-.94-2.06-.94-.94-2.06-.94 2.06-2.06.94zm-11 1L8.5 8.5l.94-2.06 2.06-.94-2.06-.94L8.5 2.5l-.94 2.06-2.06.94zm10 10l.94 2.06.94-2.06 2.06-.94-2.06-.94-.94-2.06-.94 2.06-2.06.94z\"/><path d=\"M17.41 7.96l-1.37-1.37c-.4-.4-.92-.59-1.43-.59-.52 0-1.04.2-1.43.59L10.3 9.45l-7.72 7.72c-.78.78-.78 2.05 0 2.83L4 21.41c.39.39.9.59 1.41.59.51 0 1.02-.2 1.41-.59l7.78-7.78 2.81-2.81c.8-.78.8-2.07 0-2.86zM5.41 20L4 18.59l7.72-7.72 1.47 1.35L5.41 20z\"/>\n",
              "  </svg>\n",
              "      </button>\n",
              "      \n",
              "  <style>\n",
              "    .colab-df-container {\n",
              "      display:flex;\n",
              "      flex-wrap:wrap;\n",
              "      gap: 12px;\n",
              "    }\n",
              "\n",
              "    .colab-df-convert {\n",
              "      background-color: #E8F0FE;\n",
              "      border: none;\n",
              "      border-radius: 50%;\n",
              "      cursor: pointer;\n",
              "      display: none;\n",
              "      fill: #1967D2;\n",
              "      height: 32px;\n",
              "      padding: 0 0 0 0;\n",
              "      width: 32px;\n",
              "    }\n",
              "\n",
              "    .colab-df-convert:hover {\n",
              "      background-color: #E2EBFA;\n",
              "      box-shadow: 0px 1px 2px rgba(60, 64, 67, 0.3), 0px 1px 3px 1px rgba(60, 64, 67, 0.15);\n",
              "      fill: #174EA6;\n",
              "    }\n",
              "\n",
              "    [theme=dark] .colab-df-convert {\n",
              "      background-color: #3B4455;\n",
              "      fill: #D2E3FC;\n",
              "    }\n",
              "\n",
              "    [theme=dark] .colab-df-convert:hover {\n",
              "      background-color: #434B5C;\n",
              "      box-shadow: 0px 1px 3px 1px rgba(0, 0, 0, 0.15);\n",
              "      filter: drop-shadow(0px 1px 2px rgba(0, 0, 0, 0.3));\n",
              "      fill: #FFFFFF;\n",
              "    }\n",
              "  </style>\n",
              "\n",
              "      <script>\n",
              "        const buttonEl =\n",
              "          document.querySelector('#df-dd98c255-9104-4e9c-a6fb-67bd6fe29034 button.colab-df-convert');\n",
              "        buttonEl.style.display =\n",
              "          google.colab.kernel.accessAllowed ? 'block' : 'none';\n",
              "\n",
              "        async function convertToInteractive(key) {\n",
              "          const element = document.querySelector('#df-dd98c255-9104-4e9c-a6fb-67bd6fe29034');\n",
              "          const dataTable =\n",
              "            await google.colab.kernel.invokeFunction('convertToInteractive',\n",
              "                                                     [key], {});\n",
              "          if (!dataTable) return;\n",
              "\n",
              "          const docLinkHtml = 'Like what you see? Visit the ' +\n",
              "            '<a target=\"_blank\" href=https://colab.research.google.com/notebooks/data_table.ipynb>data table notebook</a>'\n",
              "            + ' to learn more about interactive tables.';\n",
              "          element.innerHTML = '';\n",
              "          dataTable['output_type'] = 'display_data';\n",
              "          await google.colab.output.renderOutput(dataTable, element);\n",
              "          const docLink = document.createElement('div');\n",
              "          docLink.innerHTML = docLinkHtml;\n",
              "          element.appendChild(docLink);\n",
              "        }\n",
              "      </script>\n",
              "    </div>\n",
              "  </div>\n",
              "  "
            ]
          },
          "metadata": {},
          "execution_count": 15
        }
      ]
    },
    {
      "cell_type": "code",
      "source": [
        "# 나이대\n",
        "bins = [0, 4, 8, 12, 16, 32, 36, 48, 56, 64, 100]\n",
        "labels = ['Infant','Child1','Chind2','Youth1','Youth2','Adult1','Adult2','Middle Aged','Senior','Elderly']\n",
        "\n",
        "data['AgeBin'] = pd.cut(data['Age'], bins=bins, labels=labels)\n",
        "print(data)\n",
        "\n",
        "data_ = data.loc[data['Split']=='Train', :]\n",
        "data_.groupby('AgeBin')['Survived'].mean()"
      ],
      "metadata": {
        "colab": {
          "base_uri": "https://localhost:8080/"
        },
        "id": "SoBY7ZGic0ig",
        "outputId": "db36660e-d967-4133-c895-752f587960fa"
      },
      "execution_count": 19,
      "outputs": [
        {
          "output_type": "stream",
          "name": "stdout",
          "text": [
            "     PassengerId  Survived  Pclass  Sex   Age  SibSp  Parch  \\\n",
            "0              1       0.0       3    1  22.0      1      0   \n",
            "1              2       1.0       1    0  38.0      1      0   \n",
            "2              3       1.0       3    0  26.0      0      0   \n",
            "3              4       1.0       1    0  35.0      1      0   \n",
            "4              5       0.0       3    1  35.0      0      0   \n",
            "..           ...       ...     ...  ...   ...    ...    ...   \n",
            "413         1305       NaN       3    1   NaN      0      0   \n",
            "414         1306       NaN       1    0  39.0      0      0   \n",
            "415         1307       NaN       3    1  38.5      0      0   \n",
            "416         1308       NaN       3    1   NaN      0      0   \n",
            "417         1309       NaN       3    1   NaN      1      1   \n",
            "\n",
            "                 Ticket      Fare Cabin Embarked  Split   Title  AgeBin  \n",
            "0             A/5 21171    7.2500   NaN        S  Train      Mr  Youth2  \n",
            "1              PC 17599   71.2833   C85        C  Train     Mrs  Adult2  \n",
            "2      STON/O2. 3101282    7.9250   NaN        S  Train    Miss  Youth2  \n",
            "3                113803   53.1000  C123        S  Train     Mrs  Adult1  \n",
            "4                373450    8.0500   NaN        S  Train      Mr  Adult1  \n",
            "..                  ...       ...   ...      ...    ...     ...     ...  \n",
            "413           A.5. 3236    8.0500   NaN        S   Test      Mr     NaN  \n",
            "414            PC 17758  108.9000  C105        C   Test   Noble  Adult2  \n",
            "415  SOTON/O.Q. 3101262    7.2500   NaN        S   Test      Mr  Adult2  \n",
            "416              359309    8.0500   NaN        S   Test      Mr     NaN  \n",
            "417                2668   22.3583   NaN        C   Test  Master     NaN  \n",
            "\n",
            "[1309 rows x 14 columns]\n"
          ]
        },
        {
          "output_type": "execute_result",
          "data": {
            "text/plain": [
              "AgeBin\n",
              "Infant         0.675000\n",
              "Child1         0.642857\n",
              "Chind2         0.266667\n",
              "Youth1         0.483871\n",
              "Youth2         0.369942\n",
              "Adult1         0.479452\n",
              "Adult2         0.356522\n",
              "Middle Aged    0.466667\n",
              "Senior         0.375000\n",
              "Elderly        0.090909\n",
              "Name: Survived, dtype: float64"
            ]
          },
          "metadata": {},
          "execution_count": 19
        }
      ]
    },
    {
      "cell_type": "code",
      "source": [
        "# 요금에 1개의 결측치 처리\n",
        "\n",
        "print(data.loc[data['Fare'].isnull(),:])\n",
        "\n",
        "# 요금과 객실 등급의 상관 관계는 아주 높기 때문에 3등석 객실 승객의 탑승 요금의 평균값을 이용하여 \n",
        "# 결측치를 채운다. \n",
        "# 중요한 점은 전체 요금의 평균값이 아닌 3등급만의 평균을 계산하여 채운다. \n",
        "\n",
        "p3_fare_mean = data.loc[data['Pclass']==3,'Fare'].mean()\n",
        "\n",
        "data['Fare'] = data['Fare'].fillna(p3_fare_mean)\n",
        "\n",
        "print(data.loc[data['Fare'].isnull(),:])"
      ],
      "metadata": {
        "colab": {
          "base_uri": "https://localhost:8080/"
        },
        "id": "2nW9Nj3ac79z",
        "outputId": "81298a9b-4685-4777-e18b-ac5d7d80d0c4"
      },
      "execution_count": 20,
      "outputs": [
        {
          "output_type": "stream",
          "name": "stdout",
          "text": [
            "Empty DataFrame\n",
            "Columns: [PassengerId, Survived, Pclass, Sex, Age, SibSp, Parch, Ticket, Fare, Cabin, Embarked, Split, Title, AgeBin]\n",
            "Index: []\n",
            "Empty DataFrame\n",
            "Columns: [PassengerId, Survived, Pclass, Sex, Age, SibSp, Parch, Ticket, Fare, Cabin, Embarked, Split, Title, AgeBin]\n",
            "Index: []\n"
          ]
        }
      ]
    },
    {
      "cell_type": "code",
      "source": [
        "data.loc[data['Embarked'].isnull(),:]\n",
        "data['Embarked'] = data['Embarked'].fillna('C')\n",
        "print(data_.groupby('Embarked')['Survived'].mean())\n",
        "\n",
        "data.loc[data['Ticket'].isnull(),:]\n",
        "data['Ticket'] = data['Ticket'].fillna('C')\n",
        "print(data_.groupby('Ticket')['Survived'].mean())\n"
      ],
      "metadata": {
        "colab": {
          "base_uri": "https://localhost:8080/"
        },
        "id": "W6WaMWcOc8AU",
        "outputId": "86bffeeb-0504-448e-9414-8810ff1ad2aa"
      },
      "execution_count": 21,
      "outputs": [
        {
          "output_type": "stream",
          "name": "stdout",
          "text": [
            "Embarked\n",
            "C    0.558824\n",
            "Q    0.389610\n",
            "S    0.336957\n",
            "Name: Survived, dtype: float64\n",
            "Ticket\n",
            "110152         1.000000\n",
            "110413         0.666667\n",
            "110465         0.000000\n",
            "110564         1.000000\n",
            "110813         1.000000\n",
            "                 ...   \n",
            "W./C. 6608     0.000000\n",
            "W./C. 6609     0.000000\n",
            "W.E.P. 5734    0.000000\n",
            "W/C 14208      0.000000\n",
            "WE/P 5735      0.500000\n",
            "Name: Survived, Length: 681, dtype: float64\n"
          ]
        }
      ]
    },
    {
      "cell_type": "code",
      "source": [
        "# 원핫 인코딩 # \n",
        "# 문자열 데이터를 숫자형 데이터로 변경하는 또 다른 방법 \n",
        "\n",
        "# onehot_prefix = []\n",
        "# for col in ['Title', 'AgeBin', 'Embarked']:\n",
        "#   data[col] = data[col].astype('category')    # 그냥 문자열 데이터가 아닌 카테고리로 형변환 \n",
        "#   data = pd.get_dummies(data, columns = [col], prefix = col[:3], drop_first= False)\n",
        "#   onehot_prefix.append(col[:3])\n",
        "\n",
        "# data_pre = data.loc[:, [col for col in data.columns if col[:3] in onehot_prefix]].head()\n",
        "# # data= data.drop('Age', axis=1)\n",
        "# # data\n",
        "# data_pre\n",
        "\n",
        "\n",
        "# 레이블 인코딩 label Encoding #\n",
        "# 문자열 데이터로 이루어진 Title, AgeBin 을 숫자로 레이블로 바꿔주어야만 머신 러닝을 돌릴 수 있다. \n",
        "\n",
        "from sklearn.preprocessing import LabelEncoder\n",
        "\n",
        "for col in ['Title', 'AgeBin', 'Embarked']:\n",
        "  encoder = LabelEncoder()\n",
        "  data[col] = encoder.fit_transform(data[col])\n",
        "\n",
        "data.loc[:,['Title', 'AgeBin', 'Embarked']]\n",
        "\n",
        "# 각 열에 속하는 범주의 개수만큼 숫자레이블로 변환해 준다. "
      ],
      "metadata": {
        "colab": {
          "base_uri": "https://localhost:8080/",
          "height": 424
        },
        "id": "WjCjKJ8JdKzF",
        "outputId": "46f3c3b1-3231-4e7a-8514-cfc433eebe85"
      },
      "execution_count": 22,
      "outputs": [
        {
          "output_type": "execute_result",
          "data": {
            "text/plain": [
              "     Title  AgeBin  Embarked\n",
              "0        2       9         2\n",
              "1        3       1         0\n",
              "2        1       9         2\n",
              "3        3       0         2\n",
              "4        2       0         2\n",
              "..     ...     ...       ...\n",
              "413      2      10         2\n",
              "414      4       1         0\n",
              "415      2       1         2\n",
              "416      2      10         2\n",
              "417      0      10         0\n",
              "\n",
              "[1309 rows x 3 columns]"
            ],
            "text/html": [
              "\n",
              "  <div id=\"df-89deae92-f316-4618-8f97-48b96f17aa90\">\n",
              "    <div class=\"colab-df-container\">\n",
              "      <div>\n",
              "<style scoped>\n",
              "    .dataframe tbody tr th:only-of-type {\n",
              "        vertical-align: middle;\n",
              "    }\n",
              "\n",
              "    .dataframe tbody tr th {\n",
              "        vertical-align: top;\n",
              "    }\n",
              "\n",
              "    .dataframe thead th {\n",
              "        text-align: right;\n",
              "    }\n",
              "</style>\n",
              "<table border=\"1\" class=\"dataframe\">\n",
              "  <thead>\n",
              "    <tr style=\"text-align: right;\">\n",
              "      <th></th>\n",
              "      <th>Title</th>\n",
              "      <th>AgeBin</th>\n",
              "      <th>Embarked</th>\n",
              "    </tr>\n",
              "  </thead>\n",
              "  <tbody>\n",
              "    <tr>\n",
              "      <th>0</th>\n",
              "      <td>2</td>\n",
              "      <td>9</td>\n",
              "      <td>2</td>\n",
              "    </tr>\n",
              "    <tr>\n",
              "      <th>1</th>\n",
              "      <td>3</td>\n",
              "      <td>1</td>\n",
              "      <td>0</td>\n",
              "    </tr>\n",
              "    <tr>\n",
              "      <th>2</th>\n",
              "      <td>1</td>\n",
              "      <td>9</td>\n",
              "      <td>2</td>\n",
              "    </tr>\n",
              "    <tr>\n",
              "      <th>3</th>\n",
              "      <td>3</td>\n",
              "      <td>0</td>\n",
              "      <td>2</td>\n",
              "    </tr>\n",
              "    <tr>\n",
              "      <th>4</th>\n",
              "      <td>2</td>\n",
              "      <td>0</td>\n",
              "      <td>2</td>\n",
              "    </tr>\n",
              "    <tr>\n",
              "      <th>...</th>\n",
              "      <td>...</td>\n",
              "      <td>...</td>\n",
              "      <td>...</td>\n",
              "    </tr>\n",
              "    <tr>\n",
              "      <th>413</th>\n",
              "      <td>2</td>\n",
              "      <td>10</td>\n",
              "      <td>2</td>\n",
              "    </tr>\n",
              "    <tr>\n",
              "      <th>414</th>\n",
              "      <td>4</td>\n",
              "      <td>1</td>\n",
              "      <td>0</td>\n",
              "    </tr>\n",
              "    <tr>\n",
              "      <th>415</th>\n",
              "      <td>2</td>\n",
              "      <td>1</td>\n",
              "      <td>2</td>\n",
              "    </tr>\n",
              "    <tr>\n",
              "      <th>416</th>\n",
              "      <td>2</td>\n",
              "      <td>10</td>\n",
              "      <td>2</td>\n",
              "    </tr>\n",
              "    <tr>\n",
              "      <th>417</th>\n",
              "      <td>0</td>\n",
              "      <td>10</td>\n",
              "      <td>0</td>\n",
              "    </tr>\n",
              "  </tbody>\n",
              "</table>\n",
              "<p>1309 rows × 3 columns</p>\n",
              "</div>\n",
              "      <button class=\"colab-df-convert\" onclick=\"convertToInteractive('df-89deae92-f316-4618-8f97-48b96f17aa90')\"\n",
              "              title=\"Convert this dataframe to an interactive table.\"\n",
              "              style=\"display:none;\">\n",
              "        \n",
              "  <svg xmlns=\"http://www.w3.org/2000/svg\" height=\"24px\"viewBox=\"0 0 24 24\"\n",
              "       width=\"24px\">\n",
              "    <path d=\"M0 0h24v24H0V0z\" fill=\"none\"/>\n",
              "    <path d=\"M18.56 5.44l.94 2.06.94-2.06 2.06-.94-2.06-.94-.94-2.06-.94 2.06-2.06.94zm-11 1L8.5 8.5l.94-2.06 2.06-.94-2.06-.94L8.5 2.5l-.94 2.06-2.06.94zm10 10l.94 2.06.94-2.06 2.06-.94-2.06-.94-.94-2.06-.94 2.06-2.06.94z\"/><path d=\"M17.41 7.96l-1.37-1.37c-.4-.4-.92-.59-1.43-.59-.52 0-1.04.2-1.43.59L10.3 9.45l-7.72 7.72c-.78.78-.78 2.05 0 2.83L4 21.41c.39.39.9.59 1.41.59.51 0 1.02-.2 1.41-.59l7.78-7.78 2.81-2.81c.8-.78.8-2.07 0-2.86zM5.41 20L4 18.59l7.72-7.72 1.47 1.35L5.41 20z\"/>\n",
              "  </svg>\n",
              "      </button>\n",
              "      \n",
              "  <style>\n",
              "    .colab-df-container {\n",
              "      display:flex;\n",
              "      flex-wrap:wrap;\n",
              "      gap: 12px;\n",
              "    }\n",
              "\n",
              "    .colab-df-convert {\n",
              "      background-color: #E8F0FE;\n",
              "      border: none;\n",
              "      border-radius: 50%;\n",
              "      cursor: pointer;\n",
              "      display: none;\n",
              "      fill: #1967D2;\n",
              "      height: 32px;\n",
              "      padding: 0 0 0 0;\n",
              "      width: 32px;\n",
              "    }\n",
              "\n",
              "    .colab-df-convert:hover {\n",
              "      background-color: #E2EBFA;\n",
              "      box-shadow: 0px 1px 2px rgba(60, 64, 67, 0.3), 0px 1px 3px 1px rgba(60, 64, 67, 0.15);\n",
              "      fill: #174EA6;\n",
              "    }\n",
              "\n",
              "    [theme=dark] .colab-df-convert {\n",
              "      background-color: #3B4455;\n",
              "      fill: #D2E3FC;\n",
              "    }\n",
              "\n",
              "    [theme=dark] .colab-df-convert:hover {\n",
              "      background-color: #434B5C;\n",
              "      box-shadow: 0px 1px 3px 1px rgba(0, 0, 0, 0.15);\n",
              "      filter: drop-shadow(0px 1px 2px rgba(0, 0, 0, 0.3));\n",
              "      fill: #FFFFFF;\n",
              "    }\n",
              "  </style>\n",
              "\n",
              "      <script>\n",
              "        const buttonEl =\n",
              "          document.querySelector('#df-89deae92-f316-4618-8f97-48b96f17aa90 button.colab-df-convert');\n",
              "        buttonEl.style.display =\n",
              "          google.colab.kernel.accessAllowed ? 'block' : 'none';\n",
              "\n",
              "        async function convertToInteractive(key) {\n",
              "          const element = document.querySelector('#df-89deae92-f316-4618-8f97-48b96f17aa90');\n",
              "          const dataTable =\n",
              "            await google.colab.kernel.invokeFunction('convertToInteractive',\n",
              "                                                     [key], {});\n",
              "          if (!dataTable) return;\n",
              "\n",
              "          const docLinkHtml = 'Like what you see? Visit the ' +\n",
              "            '<a target=\"_blank\" href=https://colab.research.google.com/notebooks/data_table.ipynb>data table notebook</a>'\n",
              "            + ' to learn more about interactive tables.';\n",
              "          element.innerHTML = '';\n",
              "          dataTable['output_type'] = 'display_data';\n",
              "          await google.colab.output.renderOutput(dataTable, element);\n",
              "          const docLink = document.createElement('div');\n",
              "          docLink.innerHTML = docLinkHtml;\n",
              "          element.appendChild(docLink);\n",
              "        }\n",
              "      </script>\n",
              "    </div>\n",
              "  </div>\n",
              "  "
            ]
          },
          "metadata": {},
          "execution_count": 22
        }
      ]
    },
    {
      "cell_type": "code",
      "source": [
        "# 피처 스케일링 - 모델 학습에 사용할 피처의 스케일을 0 ~ 1 범위로 정규화 처리한다. \n",
        "data_num = data.loc[:,['AgeBin','Title','Embarked','Survived','Pclass','Sex','Fare','Split','SibSp', 'Parch']]\n",
        "\n",
        "from sklearn.preprocessing import MinMaxScaler\n",
        "scaler = MinMaxScaler()\n",
        "\n",
        "scaled_cols = [col for col in data_num.loc[:, 'Pclass':]. columns if col != 'Split']\n",
        "data_scaled = data_num.loc[:, scaled_cols]\n",
        "data_scaled = scaler.fit_transform(data_scaled)\n",
        "\n",
        "data_scaled"
      ],
      "metadata": {
        "colab": {
          "base_uri": "https://localhost:8080/"
        },
        "id": "ASu9AilXdZMH",
        "outputId": "f89f21e4-f470-4c2a-851b-82c3fa1934b9"
      },
      "execution_count": 24,
      "outputs": [
        {
          "output_type": "execute_result",
          "data": {
            "text/plain": [
              "array([[1.        , 1.        , 0.01415106, 0.125     , 0.        ],\n",
              "       [0.        , 0.        , 0.13913574, 0.125     , 0.        ],\n",
              "       [1.        , 0.        , 0.01546857, 0.        , 0.        ],\n",
              "       ...,\n",
              "       [1.        , 1.        , 0.01415106, 0.        , 0.        ],\n",
              "       [1.        , 1.        , 0.01571255, 0.        , 0.        ],\n",
              "       [1.        , 1.        , 0.0436405 , 0.125     , 0.11111111]])"
            ]
          },
          "metadata": {},
          "execution_count": 24
        }
      ]
    },
    {
      "cell_type": "code",
      "source": [
        "data_num.loc[:, scaled_cols] = data_scaled[:,:]\n",
        "data_num"
      ],
      "metadata": {
        "colab": {
          "base_uri": "https://localhost:8080/",
          "height": 424
        },
        "id": "tXZEKetsdZOW",
        "outputId": "f7cb7455-0ad0-44d9-8df4-e950aadb72bf"
      },
      "execution_count": 25,
      "outputs": [
        {
          "output_type": "execute_result",
          "data": {
            "text/plain": [
              "     AgeBin  Title  Embarked  Survived  Pclass  Sex      Fare  Split  SibSp  \\\n",
              "0         9      2         2       0.0     1.0  1.0  0.014151  Train  0.125   \n",
              "1         1      3         0       1.0     0.0  0.0  0.139136  Train  0.125   \n",
              "2         9      1         2       1.0     1.0  0.0  0.015469  Train  0.000   \n",
              "3         0      3         2       1.0     0.0  0.0  0.103644  Train  0.125   \n",
              "4         0      2         2       0.0     1.0  1.0  0.015713  Train  0.000   \n",
              "..      ...    ...       ...       ...     ...  ...       ...    ...    ...   \n",
              "413      10      2         2       NaN     1.0  1.0  0.015713   Test  0.000   \n",
              "414       1      4         0       NaN     0.0  0.0  0.212559   Test  0.000   \n",
              "415       1      2         2       NaN     1.0  1.0  0.014151   Test  0.000   \n",
              "416      10      2         2       NaN     1.0  1.0  0.015713   Test  0.000   \n",
              "417      10      0         0       NaN     1.0  1.0  0.043640   Test  0.125   \n",
              "\n",
              "        Parch  \n",
              "0    0.000000  \n",
              "1    0.000000  \n",
              "2    0.000000  \n",
              "3    0.000000  \n",
              "4    0.000000  \n",
              "..        ...  \n",
              "413  0.000000  \n",
              "414  0.000000  \n",
              "415  0.000000  \n",
              "416  0.000000  \n",
              "417  0.111111  \n",
              "\n",
              "[1309 rows x 10 columns]"
            ],
            "text/html": [
              "\n",
              "  <div id=\"df-494df0fc-e3d7-4cd8-849e-6c28887c1f13\">\n",
              "    <div class=\"colab-df-container\">\n",
              "      <div>\n",
              "<style scoped>\n",
              "    .dataframe tbody tr th:only-of-type {\n",
              "        vertical-align: middle;\n",
              "    }\n",
              "\n",
              "    .dataframe tbody tr th {\n",
              "        vertical-align: top;\n",
              "    }\n",
              "\n",
              "    .dataframe thead th {\n",
              "        text-align: right;\n",
              "    }\n",
              "</style>\n",
              "<table border=\"1\" class=\"dataframe\">\n",
              "  <thead>\n",
              "    <tr style=\"text-align: right;\">\n",
              "      <th></th>\n",
              "      <th>AgeBin</th>\n",
              "      <th>Title</th>\n",
              "      <th>Embarked</th>\n",
              "      <th>Survived</th>\n",
              "      <th>Pclass</th>\n",
              "      <th>Sex</th>\n",
              "      <th>Fare</th>\n",
              "      <th>Split</th>\n",
              "      <th>SibSp</th>\n",
              "      <th>Parch</th>\n",
              "    </tr>\n",
              "  </thead>\n",
              "  <tbody>\n",
              "    <tr>\n",
              "      <th>0</th>\n",
              "      <td>9</td>\n",
              "      <td>2</td>\n",
              "      <td>2</td>\n",
              "      <td>0.0</td>\n",
              "      <td>1.0</td>\n",
              "      <td>1.0</td>\n",
              "      <td>0.014151</td>\n",
              "      <td>Train</td>\n",
              "      <td>0.125</td>\n",
              "      <td>0.000000</td>\n",
              "    </tr>\n",
              "    <tr>\n",
              "      <th>1</th>\n",
              "      <td>1</td>\n",
              "      <td>3</td>\n",
              "      <td>0</td>\n",
              "      <td>1.0</td>\n",
              "      <td>0.0</td>\n",
              "      <td>0.0</td>\n",
              "      <td>0.139136</td>\n",
              "      <td>Train</td>\n",
              "      <td>0.125</td>\n",
              "      <td>0.000000</td>\n",
              "    </tr>\n",
              "    <tr>\n",
              "      <th>2</th>\n",
              "      <td>9</td>\n",
              "      <td>1</td>\n",
              "      <td>2</td>\n",
              "      <td>1.0</td>\n",
              "      <td>1.0</td>\n",
              "      <td>0.0</td>\n",
              "      <td>0.015469</td>\n",
              "      <td>Train</td>\n",
              "      <td>0.000</td>\n",
              "      <td>0.000000</td>\n",
              "    </tr>\n",
              "    <tr>\n",
              "      <th>3</th>\n",
              "      <td>0</td>\n",
              "      <td>3</td>\n",
              "      <td>2</td>\n",
              "      <td>1.0</td>\n",
              "      <td>0.0</td>\n",
              "      <td>0.0</td>\n",
              "      <td>0.103644</td>\n",
              "      <td>Train</td>\n",
              "      <td>0.125</td>\n",
              "      <td>0.000000</td>\n",
              "    </tr>\n",
              "    <tr>\n",
              "      <th>4</th>\n",
              "      <td>0</td>\n",
              "      <td>2</td>\n",
              "      <td>2</td>\n",
              "      <td>0.0</td>\n",
              "      <td>1.0</td>\n",
              "      <td>1.0</td>\n",
              "      <td>0.015713</td>\n",
              "      <td>Train</td>\n",
              "      <td>0.000</td>\n",
              "      <td>0.000000</td>\n",
              "    </tr>\n",
              "    <tr>\n",
              "      <th>...</th>\n",
              "      <td>...</td>\n",
              "      <td>...</td>\n",
              "      <td>...</td>\n",
              "      <td>...</td>\n",
              "      <td>...</td>\n",
              "      <td>...</td>\n",
              "      <td>...</td>\n",
              "      <td>...</td>\n",
              "      <td>...</td>\n",
              "      <td>...</td>\n",
              "    </tr>\n",
              "    <tr>\n",
              "      <th>413</th>\n",
              "      <td>10</td>\n",
              "      <td>2</td>\n",
              "      <td>2</td>\n",
              "      <td>NaN</td>\n",
              "      <td>1.0</td>\n",
              "      <td>1.0</td>\n",
              "      <td>0.015713</td>\n",
              "      <td>Test</td>\n",
              "      <td>0.000</td>\n",
              "      <td>0.000000</td>\n",
              "    </tr>\n",
              "    <tr>\n",
              "      <th>414</th>\n",
              "      <td>1</td>\n",
              "      <td>4</td>\n",
              "      <td>0</td>\n",
              "      <td>NaN</td>\n",
              "      <td>0.0</td>\n",
              "      <td>0.0</td>\n",
              "      <td>0.212559</td>\n",
              "      <td>Test</td>\n",
              "      <td>0.000</td>\n",
              "      <td>0.000000</td>\n",
              "    </tr>\n",
              "    <tr>\n",
              "      <th>415</th>\n",
              "      <td>1</td>\n",
              "      <td>2</td>\n",
              "      <td>2</td>\n",
              "      <td>NaN</td>\n",
              "      <td>1.0</td>\n",
              "      <td>1.0</td>\n",
              "      <td>0.014151</td>\n",
              "      <td>Test</td>\n",
              "      <td>0.000</td>\n",
              "      <td>0.000000</td>\n",
              "    </tr>\n",
              "    <tr>\n",
              "      <th>416</th>\n",
              "      <td>10</td>\n",
              "      <td>2</td>\n",
              "      <td>2</td>\n",
              "      <td>NaN</td>\n",
              "      <td>1.0</td>\n",
              "      <td>1.0</td>\n",
              "      <td>0.015713</td>\n",
              "      <td>Test</td>\n",
              "      <td>0.000</td>\n",
              "      <td>0.000000</td>\n",
              "    </tr>\n",
              "    <tr>\n",
              "      <th>417</th>\n",
              "      <td>10</td>\n",
              "      <td>0</td>\n",
              "      <td>0</td>\n",
              "      <td>NaN</td>\n",
              "      <td>1.0</td>\n",
              "      <td>1.0</td>\n",
              "      <td>0.043640</td>\n",
              "      <td>Test</td>\n",
              "      <td>0.125</td>\n",
              "      <td>0.111111</td>\n",
              "    </tr>\n",
              "  </tbody>\n",
              "</table>\n",
              "<p>1309 rows × 10 columns</p>\n",
              "</div>\n",
              "      <button class=\"colab-df-convert\" onclick=\"convertToInteractive('df-494df0fc-e3d7-4cd8-849e-6c28887c1f13')\"\n",
              "              title=\"Convert this dataframe to an interactive table.\"\n",
              "              style=\"display:none;\">\n",
              "        \n",
              "  <svg xmlns=\"http://www.w3.org/2000/svg\" height=\"24px\"viewBox=\"0 0 24 24\"\n",
              "       width=\"24px\">\n",
              "    <path d=\"M0 0h24v24H0V0z\" fill=\"none\"/>\n",
              "    <path d=\"M18.56 5.44l.94 2.06.94-2.06 2.06-.94-2.06-.94-.94-2.06-.94 2.06-2.06.94zm-11 1L8.5 8.5l.94-2.06 2.06-.94-2.06-.94L8.5 2.5l-.94 2.06-2.06.94zm10 10l.94 2.06.94-2.06 2.06-.94-2.06-.94-.94-2.06-.94 2.06-2.06.94z\"/><path d=\"M17.41 7.96l-1.37-1.37c-.4-.4-.92-.59-1.43-.59-.52 0-1.04.2-1.43.59L10.3 9.45l-7.72 7.72c-.78.78-.78 2.05 0 2.83L4 21.41c.39.39.9.59 1.41.59.51 0 1.02-.2 1.41-.59l7.78-7.78 2.81-2.81c.8-.78.8-2.07 0-2.86zM5.41 20L4 18.59l7.72-7.72 1.47 1.35L5.41 20z\"/>\n",
              "  </svg>\n",
              "      </button>\n",
              "      \n",
              "  <style>\n",
              "    .colab-df-container {\n",
              "      display:flex;\n",
              "      flex-wrap:wrap;\n",
              "      gap: 12px;\n",
              "    }\n",
              "\n",
              "    .colab-df-convert {\n",
              "      background-color: #E8F0FE;\n",
              "      border: none;\n",
              "      border-radius: 50%;\n",
              "      cursor: pointer;\n",
              "      display: none;\n",
              "      fill: #1967D2;\n",
              "      height: 32px;\n",
              "      padding: 0 0 0 0;\n",
              "      width: 32px;\n",
              "    }\n",
              "\n",
              "    .colab-df-convert:hover {\n",
              "      background-color: #E2EBFA;\n",
              "      box-shadow: 0px 1px 2px rgba(60, 64, 67, 0.3), 0px 1px 3px 1px rgba(60, 64, 67, 0.15);\n",
              "      fill: #174EA6;\n",
              "    }\n",
              "\n",
              "    [theme=dark] .colab-df-convert {\n",
              "      background-color: #3B4455;\n",
              "      fill: #D2E3FC;\n",
              "    }\n",
              "\n",
              "    [theme=dark] .colab-df-convert:hover {\n",
              "      background-color: #434B5C;\n",
              "      box-shadow: 0px 1px 3px 1px rgba(0, 0, 0, 0.15);\n",
              "      filter: drop-shadow(0px 1px 2px rgba(0, 0, 0, 0.3));\n",
              "      fill: #FFFFFF;\n",
              "    }\n",
              "  </style>\n",
              "\n",
              "      <script>\n",
              "        const buttonEl =\n",
              "          document.querySelector('#df-494df0fc-e3d7-4cd8-849e-6c28887c1f13 button.colab-df-convert');\n",
              "        buttonEl.style.display =\n",
              "          google.colab.kernel.accessAllowed ? 'block' : 'none';\n",
              "\n",
              "        async function convertToInteractive(key) {\n",
              "          const element = document.querySelector('#df-494df0fc-e3d7-4cd8-849e-6c28887c1f13');\n",
              "          const dataTable =\n",
              "            await google.colab.kernel.invokeFunction('convertToInteractive',\n",
              "                                                     [key], {});\n",
              "          if (!dataTable) return;\n",
              "\n",
              "          const docLinkHtml = 'Like what you see? Visit the ' +\n",
              "            '<a target=\"_blank\" href=https://colab.research.google.com/notebooks/data_table.ipynb>data table notebook</a>'\n",
              "            + ' to learn more about interactive tables.';\n",
              "          element.innerHTML = '';\n",
              "          dataTable['output_type'] = 'display_data';\n",
              "          await google.colab.output.renderOutput(dataTable, element);\n",
              "          const docLink = document.createElement('div');\n",
              "          docLink.innerHTML = docLinkHtml;\n",
              "          element.appendChild(docLink);\n",
              "        }\n",
              "      </script>\n",
              "    </div>\n",
              "  </div>\n",
              "  "
            ]
          },
          "metadata": {},
          "execution_count": 25
        }
      ]
    },
    {
      "cell_type": "code",
      "source": [
        "selected_features = ['Pclass','AgeBin','Title','Embarked', 'SibSp', 'Parch','Pclass','Sex','Fare']\n",
        "\n",
        "y_train = data_num.loc[data_num['Split']=='Train', 'Survived']\n",
        "X_train = data_num.loc[data_num['Split']=='Train', selected_features]\n",
        "X_test = data_num.loc[data_num['Split']=='Test', selected_features]\n",
        "\n",
        "print('Train 데이터 셋 크기 : ', X_train.shape, y_train.shape)\n",
        "print('Test 데이터 셋 크기 : ', X_test.shape)"
      ],
      "metadata": {
        "colab": {
          "base_uri": "https://localhost:8080/"
        },
        "id": "sq0CPyZyddMo",
        "outputId": "9ac8f38d-ff1e-41a4-fa47-2d9c251ee863"
      },
      "execution_count": 26,
      "outputs": [
        {
          "output_type": "stream",
          "name": "stdout",
          "text": [
            "Train 데이터 셋 크기 :  (891, 8) (891,)\n",
            "Test 데이터 셋 크기 :  (418, 8)\n"
          ]
        }
      ]
    },
    {
      "cell_type": "code",
      "source": [
        "from sklearn.linear_model import LogisticRegression\n",
        "from sklearn.model_selection import train_test_split\n",
        "from sklearn.preprocessing import StandardScaler\n",
        "\n",
        "X_tr, X_val, y_tr, y_val = train_test_split(X_train, y_train, test_size=0.2,random_state=1)\n",
        "columns = 'Pclass','Title','Sex','AgeBin','SibSp','Parch','Fare','Embarked','Title'\n",
        "labels = 'alive','die'"
      ],
      "metadata": {
        "id": "FTwZ3U6DM66a"
      },
      "execution_count": 50,
      "outputs": []
    },
    {
      "cell_type": "code",
      "source": [
        "X_tr, X_val, y_tr, y_val, columns, labels"
      ],
      "metadata": {
        "colab": {
          "base_uri": "https://localhost:8080/"
        },
        "id": "nVdr4F1RNsZj",
        "outputId": "e41f6ed0-9d03-45f0-e596-8ef0578093d0"
      },
      "execution_count": 52,
      "outputs": [
        {
          "output_type": "execute_result",
          "data": {
            "text/plain": [
              "(     AgeBin  Title  Embarked  SibSp  Parch  Pclass  Sex      Fare\n",
              " 301      10      2         1   0.25    0.0     1.0  1.0  0.045381\n",
              " 309       9      1         0   0.00    0.0     0.0  0.0  0.111118\n",
              " 516       0      3         2   0.00    0.0     0.5  0.0  0.020495\n",
              " 120       9      2         2   0.25    0.0     0.5  1.0  0.143462\n",
              " 570       7      2         2   0.00    0.0     0.5  1.0  0.020495\n",
              " ..      ...    ...       ...    ...    ...     ...  ...       ...\n",
              " 715       9      2         2   0.00    0.0     1.0  1.0  0.014932\n",
              " 767       9      1         1   0.00    0.0     1.0  0.0  0.015127\n",
              " 72        9      2         2   0.00    0.0     0.5  1.0  0.143462\n",
              " 235      10      1         2   0.00    0.0     1.0  0.0  0.014737\n",
              " 37        9      2         2   0.00    0.0     1.0  1.0  0.015713\n",
              " \n",
              " [712 rows x 8 columns],\n",
              "      AgeBin  Title  Embarked  SibSp     Parch  Pclass  Sex      Fare\n",
              " 862       1      3         2   0.00  0.000000     0.0  0.0  0.050610\n",
              " 223      10      2         2   0.00  0.000000     1.0  1.0  0.015412\n",
              " 84        9      1         2   0.00  0.000000     0.5  0.0  0.020495\n",
              " 680      10      1         1   0.00  0.000000     1.0  0.0  0.015883\n",
              " 535       2      1         2   0.00  0.222222     0.5  0.0  0.051237\n",
              " ..      ...    ...       ...    ...       ...     ...  ...       ...\n",
              " 796       6      6         2   0.00  0.000000     0.0  0.0  0.050610\n",
              " 815      10      2         2   0.00  0.000000     0.0  1.0  0.000000\n",
              " 629      10      2         1   0.00  0.000000     1.0  1.0  0.015094\n",
              " 421       9      2         1   0.00  0.000000     1.0  1.0  0.015094\n",
              " 448       2      1         0   0.25  0.111111     1.0  0.0  0.037590\n",
              " \n",
              " [179 rows x 8 columns],\n",
              " 301    1.0\n",
              " 309    1.0\n",
              " 516    1.0\n",
              " 120    0.0\n",
              " 570    1.0\n",
              "       ... \n",
              " 715    0.0\n",
              " 767    0.0\n",
              " 72     0.0\n",
              " 235    0.0\n",
              " 37     0.0\n",
              " Name: Survived, Length: 712, dtype: float64,\n",
              " 862    1.0\n",
              " 223    0.0\n",
              " 84     1.0\n",
              " 680    0.0\n",
              " 535    1.0\n",
              "       ... \n",
              " 796    1.0\n",
              " 815    0.0\n",
              " 629    0.0\n",
              " 421    0.0\n",
              " 448    1.0\n",
              " Name: Survived, Length: 179, dtype: float64,\n",
              " ('Pclass',\n",
              "  'Title',\n",
              "  'Sex',\n",
              "  'AgeBin',\n",
              "  'SibSp',\n",
              "  'Parch',\n",
              "  'Fare',\n",
              "  'Embarked',\n",
              "  'Title'),\n",
              " ('alive', 'die'))"
            ]
          },
          "metadata": {},
          "execution_count": 52
        }
      ]
    },
    {
      "cell_type": "code",
      "source": [
        "model = LogisticRegression(solver = 'liblinear')\n",
        "model.fit(X_train, y_train)"
      ],
      "metadata": {
        "colab": {
          "base_uri": "https://localhost:8080/"
        },
        "id": "vt7xNHQWOBV7",
        "outputId": "3c5f39fc-ffac-4b2f-c05a-9ded8ae87a98"
      },
      "execution_count": 53,
      "outputs": [
        {
          "output_type": "execute_result",
          "data": {
            "text/plain": [
              "LogisticRegression(solver='liblinear')"
            ]
          },
          "metadata": {},
          "execution_count": 53
        }
      ]
    },
    {
      "cell_type": "code",
      "source": [
        "# X_tr, X_val, y_tr, y_val\n",
        "\n",
        "from sklearn.metrics import confusion_matrix, ConfusionMatrixDisplay\n",
        "\n",
        "def draw_cm(model, X_val, y_val, labels, title=''):\n",
        "    y_pred = model.predict(X_test)\n",
        "    cm = confusion_matrix(y_val, y_pred) # 혼돈 행렬 구하기\n",
        "    ConfusionMatrixDisplay(cm, display_labels=labels).plot(cmap='Blues')\n",
        "    \n",
        "    if title: plt.title(title)\n",
        "    plt.show()\n",
        "    # 모델 평가 (ConfusionMatrix)"
      ],
      "metadata": {
        "id": "C1owDVflOHHq"
      },
      "execution_count": 65,
      "outputs": []
    },
    {
      "cell_type": "code",
      "source": [
        "from sklearn.tree import DecisionTreeClassifier as DT \n",
        "from sklearn.tree import plot_tree\n",
        "from sklearn.metrics import confusion_matrix, ConfusionMatrixDisplay\n",
        "\n",
        "def draw_cm(model, X, y, labels, title=''):\n",
        "  y_pred = model.predict(X)\n",
        "  cm = confusion_matrix(y, y_pred) # 혼돈 행렬 구하기\n",
        "  ConfusionMatrixDisplay(cm, display_labels=labels).plot(cmap='Blues')\n",
        "  if title: plt.title(title)\n",
        "\n",
        "# 학습\n",
        "model = DT(criterion='gini', max_depth=6)\n",
        "model.fit(X_train, y_train)\n",
        "\n",
        "# 정확도 출력 및 혼돈행렬 시각화\n",
        "acc = model.score(X_val, y_val)\n",
        "draw_cm(model, X_val, y_val, labels, title = f'Acc:{np.round(acc,2)}')\n",
        "plt.show()\n",
        "\n",
        "# 트리 시각화\n",
        "plt.figure(figsize=(12,8))\n",
        "plot_tree(model)\n",
        "plt.show()"
      ],
      "metadata": {
        "colab": {
          "base_uri": "https://localhost:8080/",
          "height": 744
        },
        "id": "86ZCUd_dOSxm",
        "outputId": "f5ef5b22-680b-4741-89af-e8f4cd41b100"
      },
      "execution_count": 68,
      "outputs": [
        {
          "output_type": "display_data",
          "data": {
            "text/plain": [
              "<Figure size 432x288 with 2 Axes>"
            ],
            "image/png": "[encoded data removed]"
          },
          "metadata": {
            "needs_background": "light"
          }
        },
        {
          "output_type": "display_data",
          "data": {
            "text/plain": [
              "<Figure size 864x576 with 1 Axes>"
            ],
            "image/png": "[encoded data removed]"
          },
          "metadata": {
            "needs_background": "light"
          }
        }
      ]
    },
    {
      "cell_type": "code",
      "source": [
        "# SVC\n",
        "from sklearn.svm import SVC\n",
        "\n",
        "def draw_cm(model, X, y, labels, title=''):\n",
        "  y_pred = model.predict(X_test)\n",
        "  cm = confusion_matrix(y, y_pred) # 혼돈 행렬 구하기\n",
        "  ConfusionMatrixDisplay(cm, display_labels=labels).plot(cmap='Blues')\n",
        "  if title: plt.title(title)\n",
        "\n",
        "# 학습\n",
        "model = SVC(kernel='linear', random_state=1)\n",
        "model.fit(X_val, y_val)\n",
        "\n",
        "# 정확도 출력 및 혼돈행렬 시각화\n",
        "draw_cm(model, X_val, y_val, labels, title=f'Acc: {np.round(model.score(X_val, y_val), 2)}')\n",
        "plt.show()"
      ],
      "metadata": {
        "colab": {
          "base_uri": "https://localhost:8080/",
          "height": 295
        },
        "id": "PCkeTjp6T-4b",
        "outputId": "010ba7f1-6e56-4e57-8e6c-752826e45676"
      },
      "execution_count": 73,
      "outputs": [
        {
          "output_type": "display_data",
          "data": {
            "text/plain": [
              "<Figure size 432x288 with 2 Axes>"
            ],
            "image/png": "[encoded data removed]"
          },
          "metadata": {
            "needs_background": "light"
          }
        }
      ]
    },
    {
      "cell_type": "code",
      "source": [
        "# 훈련용과 검증용 8:2 로 분할\n",
        "\n",
        "from sklearn.model_selection import train_test_split\n",
        "\n",
        "X_tr, X_val, y_tr, y_val = train_test_split(X_train, y_train, test_size=0.2, shuffle=True, random_state=20)\n"
      ],
      "metadata": {
        "id": "Q1NhbpUQddO6"
      },
      "execution_count": 27,
      "outputs": []
    },
    {
      "cell_type": "code",
      "source": [
        "# voting\n",
        "from sklearn.ensemble import VotingClassifier as Vot \n",
        "from sklearn.tree import DecisionTreeClassifier as DT \n",
        "from sklearn.svm import SVC \n",
        "from sklearn.neighbors import KNeighborsClassifier as KN   \n",
        "from sklearn.ensemble import RandomForestClassifier \n",
        "from xgboost import XGBClassifier as XGBC \n",
        "\n",
        "list_score = []\n",
        "\n",
        "for i in range(1, 20):\n",
        "\n",
        "  xgbc = XGBC(n_estimators=100, max_depth=i, random_state=10) \n",
        "  xgbc.fit(X_tr, y_tr) \n",
        "\n",
        "  rfc = RandomForestClassifier(n_estimators=100, max_depth=i, random_state=10) \n",
        "  rfc.fit(X_tr, y_tr)\n",
        "  \n",
        "  dtc = DT(max_depth=i, random_state = 10)\n",
        "  dtc.fit(X_tr, y_tr)\n",
        "\n",
        "  evc = Vot(estimators=[('XGBC', xgbc),('RFC', rfc),('DT', dtc)], voting='hard')   \n",
        "  evc.fit(X_tr, y_tr) \n",
        "\n",
        "  # 예측 (시험)\n",
        "  evc_pred = evc.predict(X_val)           \n",
        "  evc_pred \n",
        "\n",
        "  # 평가\n",
        "  from sklearn.metrics import accuracy_score  \n",
        "  list_score.append(accuracy_score(y_val, evc_pred))\n",
        "\n",
        "  print(f'max_depth={i} 평균 : {accuracy_score(y_val, evc_pred)}')\n",
        "\n",
        "list_score.sort(reverse=True)\n",
        "print(list_score)"
      ],
      "metadata": {
        "colab": {
          "base_uri": "https://localhost:8080/"
        },
        "id": "tW54e77OddRL",
        "outputId": "6f625579-0134-4846-c7fd-f172c3243c04"
      },
      "execution_count": 51,
      "outputs": [
        {
          "output_type": "stream",
          "name": "stdout",
          "text": [
            "max_depth=1 평균 : 0.770949720670391\n",
            "max_depth=2 평균 : 0.7988826815642458\n",
            "max_depth=3 평균 : 0.7988826815642458\n",
            "max_depth=4 평균 : 0.7988826815642458\n",
            "max_depth=5 평균 : 0.7988826815642458\n",
            "max_depth=6 평균 : 0.7932960893854749\n",
            "max_depth=7 평균 : 0.7932960893854749\n",
            "max_depth=8 평균 : 0.7877094972067039\n",
            "max_depth=9 평균 : 0.7821229050279329\n",
            "max_depth=10 평균 : 0.7988826815642458\n",
            "max_depth=11 평균 : 0.7877094972067039\n",
            "max_depth=12 평균 : 0.7877094972067039\n",
            "max_depth=13 평균 : 0.7821229050279329\n",
            "max_depth=14 평균 : 0.770949720670391\n",
            "max_depth=15 평균 : 0.776536312849162\n",
            "max_depth=16 평균 : 0.776536312849162\n",
            "max_depth=17 평균 : 0.7877094972067039\n",
            "max_depth=18 평균 : 0.7877094972067039\n",
            "max_depth=19 평균 : 0.7877094972067039\n",
            "[0.7988826815642458, 0.7988826815642458, 0.7988826815642458, 0.7988826815642458, 0.7988826815642458, 0.7932960893854749, 0.7932960893854749, 0.7877094972067039, 0.7877094972067039, 0.7877094972067039, 0.7877094972067039, 0.7877094972067039, 0.7877094972067039, 0.7821229050279329, 0.7821229050279329, 0.776536312849162, 0.776536312849162, 0.770949720670391, 0.770949720670391]\n"
          ]
        }
      ]
    },
    {
      "cell_type": "code",
      "source": [
        "xgbc = XGBC(n_estimators=100, max_depth=i, random_state=10) \n",
        "xgbc.fit(X_tr, y_tr) \n",
        "\n",
        "rfc = RandomForestClassifier(n_estimators=100, max_depth=2, random_state=10) \n",
        "rfc.fit(X_tr, y_tr)\n",
        "  \n",
        "dtc = DT(max_depth=2, random_state = 10)\n",
        "dtc.fit(X_tr, y_tr)\n",
        "\n",
        "evc = Vot(estimators=[('XGBC', xgbc),('RFC', rfc),('DT', dtc)], voting='hard')   \n",
        "evc.fit(X_tr, y_tr) \n",
        "\n",
        "# 예측 (시험)\n",
        "evc_pred = evc.predict(X_val)           \n",
        "evc_pred \n"
      ],
      "metadata": {
        "colab": {
          "base_uri": "https://localhost:8080/",
          "height": 136
        },
        "id": "0BJzPKdSkn9g",
        "outputId": "00a24b49-b1ce-4fb8-ae66-a4e4cbbb7df5"
      },
      "execution_count": 37,
      "outputs": [
        {
          "output_type": "error",
          "ename": "SyntaxError",
          "evalue": "ignored",
          "traceback": [
            "\u001b[0;36m  File \u001b[0;32m\"<ipython-input-37-df532da7d6a9>\"\u001b[0;36m, line \u001b[0;32m4\u001b[0m\n\u001b[0;31m    rfc = RandomForestClassifiermax_depth=None, max_features='auto', random_state=10)\u001b[0m\n\u001b[0m                                                                                    ^\u001b[0m\n\u001b[0;31mSyntaxError\u001b[0m\u001b[0;31m:\u001b[0m invalid syntax\n"
          ]
        }
      ]
    },
    {
      "cell_type": "code",
      "source": [
        "list_score = []\n",
        "\n",
        "for i in range(20):\n",
        "  xgbc = XGBC(n_estimators=100, max_depth=i, random_state=10) \n",
        "  xgbc.fit(X_tr, y_tr) \n",
        "\n",
        "  # 예측 (시험)\n",
        "  xgbc_pred = xgbc.predict(X_val)           \n",
        "  xgbc_pred \n",
        "\n",
        "  # 평가\n",
        "  from sklearn.metrics import accuracy_score  \n",
        "  list_score.append(accuracy_score(y_val, xgbc_pred))\n",
        "  \n",
        "  print(f'max_depth={i} 평균 : {accuracy_score(y_val, xgbc_pred)}')\n",
        "\n",
        "list_score.sort(reverse=True)\n",
        "print(list_score)"
      ],
      "metadata": {
        "colab": {
          "base_uri": "https://localhost:8080/",
          "height": 397
        },
        "id": "FQ0V_ioGf6Zt",
        "outputId": "070289b1-3abe-4a7d-f3ca-73f98f6d83eb"
      },
      "execution_count": 38,
      "outputs": [
        {
          "output_type": "error",
          "ename": "XGBoostError",
          "evalue": "ignored",
          "traceback": [
            "\u001b[0;31m---------------------------------------------------------------------------\u001b[0m",
            "\u001b[0;31mXGBoostError\u001b[0m                              Traceback (most recent call last)",
            "\u001b[0;32m<ipython-input-38-7dc0dccc3d14>\u001b[0m in \u001b[0;36m<module>\u001b[0;34m()\u001b[0m\n\u001b[1;32m      3\u001b[0m \u001b[0;32mfor\u001b[0m \u001b[0mi\u001b[0m \u001b[0;32min\u001b[0m \u001b[0mrange\u001b[0m\u001b[0;34m(\u001b[0m\u001b[0;36m20\u001b[0m\u001b[0;34m)\u001b[0m\u001b[0;34m:\u001b[0m\u001b[0;34m\u001b[0m\u001b[0;34m\u001b[0m\u001b[0m\n\u001b[1;32m      4\u001b[0m   \u001b[0mxgbc\u001b[0m \u001b[0;34m=\u001b[0m \u001b[0mXGBC\u001b[0m\u001b[0;34m(\u001b[0m\u001b[0mmax_depth\u001b[0m\u001b[0;34m=\u001b[0m\u001b[0;32mNone\u001b[0m\u001b[0;34m,\u001b[0m \u001b[0mmax_features\u001b[0m\u001b[0;34m=\u001b[0m\u001b[0;34m'auto'\u001b[0m\u001b[0;34m)\u001b[0m\u001b[0;34m\u001b[0m\u001b[0;34m\u001b[0m\u001b[0m\n\u001b[0;32m----> 5\u001b[0;31m   \u001b[0mxgbc\u001b[0m\u001b[0;34m.\u001b[0m\u001b[0mfit\u001b[0m\u001b[0;34m(\u001b[0m\u001b[0mX_tr\u001b[0m\u001b[0;34m,\u001b[0m \u001b[0my_tr\u001b[0m\u001b[0;34m)\u001b[0m\u001b[0;34m\u001b[0m\u001b[0;34m\u001b[0m\u001b[0m\n\u001b[0m\u001b[1;32m      6\u001b[0m \u001b[0;34m\u001b[0m\u001b[0m\n\u001b[1;32m      7\u001b[0m   \u001b[0;31m# 예측 (시험)\u001b[0m\u001b[0;34m\u001b[0m\u001b[0;34m\u001b[0m\u001b[0;34m\u001b[0m\u001b[0m\n",
            "\u001b[0;32m/usr/local/lib/python3.7/dist-packages/xgboost/sklearn.py\u001b[0m in \u001b[0;36mfit\u001b[0;34m(self, X, y, sample_weight, eval_set, eval_metric, early_stopping_rounds, verbose, xgb_model, sample_weight_eval_set, callbacks)\u001b[0m\n\u001b[1;32m    730\u001b[0m                               \u001b[0mevals_result\u001b[0m\u001b[0;34m=\u001b[0m\u001b[0mevals_result\u001b[0m\u001b[0;34m,\u001b[0m \u001b[0mobj\u001b[0m\u001b[0;34m=\u001b[0m\u001b[0mobj\u001b[0m\u001b[0;34m,\u001b[0m \u001b[0mfeval\u001b[0m\u001b[0;34m=\u001b[0m\u001b[0mfeval\u001b[0m\u001b[0;34m,\u001b[0m\u001b[0;34m\u001b[0m\u001b[0;34m\u001b[0m\u001b[0m\n\u001b[1;32m    731\u001b[0m                               \u001b[0mverbose_eval\u001b[0m\u001b[0;34m=\u001b[0m\u001b[0mverbose\u001b[0m\u001b[0;34m,\u001b[0m \u001b[0mxgb_model\u001b[0m\u001b[0;34m=\u001b[0m\u001b[0mxgb_model\u001b[0m\u001b[0;34m,\u001b[0m\u001b[0;34m\u001b[0m\u001b[0;34m\u001b[0m\u001b[0m\n\u001b[0;32m--> 732\u001b[0;31m                               callbacks=callbacks)\n\u001b[0m\u001b[1;32m    733\u001b[0m \u001b[0;34m\u001b[0m\u001b[0m\n\u001b[1;32m    734\u001b[0m         \u001b[0mself\u001b[0m\u001b[0;34m.\u001b[0m\u001b[0mobjective\u001b[0m \u001b[0;34m=\u001b[0m \u001b[0mxgb_options\u001b[0m\u001b[0;34m[\u001b[0m\u001b[0;34m\"objective\"\u001b[0m\u001b[0;34m]\u001b[0m\u001b[0;34m\u001b[0m\u001b[0;34m\u001b[0m\u001b[0m\n",
            "\u001b[0;32m/usr/local/lib/python3.7/dist-packages/xgboost/training.py\u001b[0m in \u001b[0;36mtrain\u001b[0;34m(params, dtrain, num_boost_round, evals, obj, feval, maximize, early_stopping_rounds, evals_result, verbose_eval, xgb_model, callbacks, learning_rates)\u001b[0m\n\u001b[1;32m    214\u001b[0m                            \u001b[0mevals\u001b[0m\u001b[0;34m=\u001b[0m\u001b[0mevals\u001b[0m\u001b[0;34m,\u001b[0m\u001b[0;34m\u001b[0m\u001b[0;34m\u001b[0m\u001b[0m\n\u001b[1;32m    215\u001b[0m                            \u001b[0mobj\u001b[0m\u001b[0;34m=\u001b[0m\u001b[0mobj\u001b[0m\u001b[0;34m,\u001b[0m \u001b[0mfeval\u001b[0m\u001b[0;34m=\u001b[0m\u001b[0mfeval\u001b[0m\u001b[0;34m,\u001b[0m\u001b[0;34m\u001b[0m\u001b[0;34m\u001b[0m\u001b[0m\n\u001b[0;32m--> 216\u001b[0;31m                            xgb_model=xgb_model, callbacks=callbacks)\n\u001b[0m\u001b[1;32m    217\u001b[0m \u001b[0;34m\u001b[0m\u001b[0m\n\u001b[1;32m    218\u001b[0m \u001b[0;34m\u001b[0m\u001b[0m\n",
            "\u001b[0;32m/usr/local/lib/python3.7/dist-packages/xgboost/training.py\u001b[0m in \u001b[0;36m_train_internal\u001b[0;34m(params, dtrain, num_boost_round, evals, obj, feval, xgb_model, callbacks)\u001b[0m\n\u001b[1;32m     72\u001b[0m         \u001b[0;31m# Skip the first update if it is a recovery step.\u001b[0m\u001b[0;34m\u001b[0m\u001b[0;34m\u001b[0m\u001b[0;34m\u001b[0m\u001b[0m\n\u001b[1;32m     73\u001b[0m         \u001b[0;32mif\u001b[0m \u001b[0mversion\u001b[0m \u001b[0;34m%\u001b[0m \u001b[0;36m2\u001b[0m \u001b[0;34m==\u001b[0m \u001b[0;36m0\u001b[0m\u001b[0;34m:\u001b[0m\u001b[0;34m\u001b[0m\u001b[0;34m\u001b[0m\u001b[0m\n\u001b[0;32m---> 74\u001b[0;31m             \u001b[0mbst\u001b[0m\u001b[0;34m.\u001b[0m\u001b[0mupdate\u001b[0m\u001b[0;34m(\u001b[0m\u001b[0mdtrain\u001b[0m\u001b[0;34m,\u001b[0m \u001b[0mi\u001b[0m\u001b[0;34m,\u001b[0m \u001b[0mobj\u001b[0m\u001b[0;34m)\u001b[0m\u001b[0;34m\u001b[0m\u001b[0;34m\u001b[0m\u001b[0m\n\u001b[0m\u001b[1;32m     75\u001b[0m             \u001b[0mbst\u001b[0m\u001b[0;34m.\u001b[0m\u001b[0msave_rabit_checkpoint\u001b[0m\u001b[0;34m(\u001b[0m\u001b[0;34m)\u001b[0m\u001b[0;34m\u001b[0m\u001b[0;34m\u001b[0m\u001b[0m\n\u001b[1;32m     76\u001b[0m             \u001b[0mversion\u001b[0m \u001b[0;34m+=\u001b[0m \u001b[0;36m1\u001b[0m\u001b[0;34m\u001b[0m\u001b[0;34m\u001b[0m\u001b[0m\n",
            "\u001b[0;32m/usr/local/lib/python3.7/dist-packages/xgboost/core.py\u001b[0m in \u001b[0;36mupdate\u001b[0;34m(self, dtrain, iteration, fobj)\u001b[0m\n\u001b[1;32m   1107\u001b[0m         \u001b[0;32mif\u001b[0m \u001b[0mfobj\u001b[0m \u001b[0;32mis\u001b[0m \u001b[0;32mNone\u001b[0m\u001b[0;34m:\u001b[0m\u001b[0;34m\u001b[0m\u001b[0;34m\u001b[0m\u001b[0m\n\u001b[1;32m   1108\u001b[0m             _check_call(_LIB.XGBoosterUpdateOneIter(self.handle, ctypes.c_int(iteration),\n\u001b[0;32m-> 1109\u001b[0;31m                                                     dtrain.handle))\n\u001b[0m\u001b[1;32m   1110\u001b[0m         \u001b[0;32melse\u001b[0m\u001b[0;34m:\u001b[0m\u001b[0;34m\u001b[0m\u001b[0;34m\u001b[0m\u001b[0m\n\u001b[1;32m   1111\u001b[0m             \u001b[0mpred\u001b[0m \u001b[0;34m=\u001b[0m \u001b[0mself\u001b[0m\u001b[0;34m.\u001b[0m\u001b[0mpredict\u001b[0m\u001b[0;34m(\u001b[0m\u001b[0mdtrain\u001b[0m\u001b[0;34m)\u001b[0m\u001b[0;34m\u001b[0m\u001b[0;34m\u001b[0m\u001b[0m\n",
            "\u001b[0;32m/usr/local/lib/python3.7/dist-packages/xgboost/core.py\u001b[0m in \u001b[0;36m_check_call\u001b[0;34m(ret)\u001b[0m\n\u001b[1;32m    174\u001b[0m     \"\"\"\n\u001b[1;32m    175\u001b[0m     \u001b[0;32mif\u001b[0m \u001b[0mret\u001b[0m \u001b[0;34m!=\u001b[0m \u001b[0;36m0\u001b[0m\u001b[0;34m:\u001b[0m\u001b[0;34m\u001b[0m\u001b[0;34m\u001b[0m\u001b[0m\n\u001b[0;32m--> 176\u001b[0;31m         \u001b[0;32mraise\u001b[0m \u001b[0mXGBoostError\u001b[0m\u001b[0;34m(\u001b[0m\u001b[0mpy_str\u001b[0m\u001b[0;34m(\u001b[0m\u001b[0m_LIB\u001b[0m\u001b[0;34m.\u001b[0m\u001b[0mXGBGetLastError\u001b[0m\u001b[0;34m(\u001b[0m\u001b[0;34m)\u001b[0m\u001b[0;34m)\u001b[0m\u001b[0;34m)\u001b[0m\u001b[0;34m\u001b[0m\u001b[0;34m\u001b[0m\u001b[0m\n\u001b[0m\u001b[1;32m    177\u001b[0m \u001b[0;34m\u001b[0m\u001b[0m\n\u001b[1;32m    178\u001b[0m \u001b[0;34m\u001b[0m\u001b[0m\n",
            "\u001b[0;31mXGBoostError\u001b[0m: Invalid Parameter format for max_depth expect int but value='None'"
          ]
        }
      ]
    },
    {
      "cell_type": "code",
      "source": [
        "list_score = []\n",
        "\n",
        "for i in range(1, 20):\n",
        "  rfc = RandomForestClassifier(n_estimators=100, max_depth=i, random_state=10) \n",
        "  rfc.fit(X_tr, y_tr)\n",
        "\n",
        "  # 예측 (시험)\n",
        "  rfc_pred = rfc.predict(X_val)           \n",
        "  rfc_pred \n",
        "\n",
        "  # 평가\n",
        "  from sklearn.metrics import accuracy_score  \n",
        "  list_score.append(accuracy_score(y_val, rfc_pred))\n",
        "\n",
        "  print(f'max_depth={i} 평균 : {accuracy_score(y_val, rfc_pred)}')\n",
        "\n",
        "list_score.sort(reverse=True)\n",
        "print(list_score)"
      ],
      "metadata": {
        "colab": {
          "base_uri": "https://localhost:8080/"
        },
        "id": "1N4STpF_gMqW",
        "outputId": "5161f599-455e-41cb-8379-ab4caf03bfa9"
      },
      "execution_count": 31,
      "outputs": [
        {
          "output_type": "stream",
          "name": "stdout",
          "text": [
            "max_depth=1 평균 : 0.7821229050279329\n",
            "max_depth=2 평균 : 0.8379888268156425\n",
            "max_depth=3 평균 : 0.8547486033519553\n",
            "max_depth=4 평균 : 0.8491620111731844\n",
            "max_depth=5 평균 : 0.8491620111731844\n",
            "max_depth=6 평균 : 0.8435754189944135\n",
            "max_depth=7 평균 : 0.8435754189944135\n",
            "max_depth=8 평균 : 0.8324022346368715\n",
            "max_depth=9 평균 : 0.8379888268156425\n",
            "max_depth=10 평균 : 0.8268156424581006\n",
            "max_depth=11 평균 : 0.8156424581005587\n",
            "max_depth=12 평균 : 0.8156424581005587\n",
            "max_depth=13 평균 : 0.8212290502793296\n",
            "max_depth=14 평균 : 0.8044692737430168\n",
            "max_depth=15 평균 : 0.8044692737430168\n",
            "max_depth=16 평균 : 0.8100558659217877\n",
            "max_depth=17 평균 : 0.8044692737430168\n",
            "max_depth=18 평균 : 0.8044692737430168\n",
            "max_depth=19 평균 : 0.7988826815642458\n",
            "[0.8547486033519553, 0.8491620111731844, 0.8491620111731844, 0.8435754189944135, 0.8435754189944135, 0.8379888268156425, 0.8379888268156425, 0.8324022346368715, 0.8268156424581006, 0.8212290502793296, 0.8156424581005587, 0.8156424581005587, 0.8100558659217877, 0.8044692737430168, 0.8044692737430168, 0.8044692737430168, 0.8044692737430168, 0.7988826815642458, 0.7821229050279329]\n"
          ]
        }
      ]
    },
    {
      "cell_type": "code",
      "source": [
        "rfc = RandomForestClassifier(max_depth=None, max_features='auto') \n",
        "rfc.fit(X_tr, y_tr)\n",
        "\n",
        "# 예측 (시험)\n",
        "rfc_pred = rfc.predict(X_val)           \n",
        "rfc_pred \n",
        "\n",
        "# 평가\n",
        "from sklearn.metrics import accuracy_score  \n",
        "accuracy_score(y_val, rfc_pred)\n"
      ],
      "metadata": {
        "colab": {
          "base_uri": "https://localhost:8080/"
        },
        "id": "xid0_PL6IFfy",
        "outputId": "70406b17-37ca-4d1c-9fb8-ec0ca4a1e0a5"
      },
      "execution_count": 32,
      "outputs": [
        {
          "output_type": "execute_result",
          "data": {
            "text/plain": [
              "0.8268156424581006"
            ]
          },
          "metadata": {},
          "execution_count": 32
        }
      ]
    },
    {
      "cell_type": "code",
      "source": [
        "list_score = []\n",
        "\n",
        "for i in range(1, 20):\n",
        "  knn = KN(n_neighbors=i) \n",
        "  knn.fit(X_tr, y_tr)     \n",
        "\n",
        "  # 예측 (시험)\n",
        "  knn_pred = knn.predict(X_val)           \n",
        "  knn_pred \n",
        "\n",
        "  # 평가\n",
        "  from sklearn.metrics import accuracy_score  \n",
        "  list_score.append(accuracy_score(y_val, knn_pred))\n",
        "\n",
        "  print(f'max_depth={i} 평균 : {accuracy_score(y_val, knn_pred)}')\n",
        "\n",
        "list_score.sort(reverse=True)\n",
        "print(list_score)"
      ],
      "metadata": {
        "colab": {
          "base_uri": "https://localhost:8080/"
        },
        "id": "YSSnmgI8gMs_",
        "outputId": "c167c32f-af5f-4b35-bcfe-02b41a5b2428"
      },
      "execution_count": 33,
      "outputs": [
        {
          "output_type": "stream",
          "name": "stdout",
          "text": [
            "max_depth=1 평균 : 0.7932960893854749\n",
            "max_depth=2 평균 : 0.7988826815642458\n",
            "max_depth=3 평균 : 0.8156424581005587\n",
            "max_depth=4 평균 : 0.8268156424581006\n",
            "max_depth=5 평균 : 0.7877094972067039\n",
            "max_depth=6 평균 : 0.8044692737430168\n",
            "max_depth=7 평균 : 0.7988826815642458\n",
            "max_depth=8 평균 : 0.8379888268156425\n",
            "max_depth=9 평균 : 0.8491620111731844\n",
            "max_depth=10 평균 : 0.8268156424581006\n",
            "max_depth=11 평균 : 0.8212290502793296\n",
            "max_depth=12 평균 : 0.8268156424581006\n",
            "max_depth=13 평균 : 0.8212290502793296\n",
            "max_depth=14 평균 : 0.8044692737430168\n",
            "max_depth=15 평균 : 0.7988826815642458\n",
            "max_depth=16 평균 : 0.7988826815642458\n",
            "max_depth=17 평균 : 0.7988826815642458\n",
            "max_depth=18 평균 : 0.8156424581005587\n",
            "max_depth=19 평균 : 0.8100558659217877\n",
            "[0.8491620111731844, 0.8379888268156425, 0.8268156424581006, 0.8268156424581006, 0.8268156424581006, 0.8212290502793296, 0.8212290502793296, 0.8156424581005587, 0.8156424581005587, 0.8100558659217877, 0.8044692737430168, 0.8044692737430168, 0.7988826815642458, 0.7988826815642458, 0.7988826815642458, 0.7988826815642458, 0.7988826815642458, 0.7932960893854749, 0.7877094972067039]\n"
          ]
        }
      ]
    },
    {
      "cell_type": "code",
      "source": [
        "list_score = []\n",
        "\n",
        "for i in range(1, 20):\n",
        "  dtc = DT(criterion='gini', max_depth = i, random_state = 10)\n",
        "  dtc.fit(X_tr, y_tr)\n",
        "\n",
        "  # 예측 (시험)\n",
        "  dtc_pred = dtc.predict(X_val)           \n",
        "  dtc_pred \n",
        "\n",
        "  # 평가\n",
        "  from sklearn.metrics import accuracy_score  \n",
        "  list_score.append(accuracy_score(y_val, dtc_pred))\n",
        "\n",
        "  print(f'max_depth={i} 평균 : {accuracy_score(y_val, dtc_pred)}')\n",
        "\n",
        "list_score.sort(reverse=True)\n",
        "print(list_score)"
      ],
      "metadata": {
        "colab": {
          "base_uri": "https://localhost:8080/"
        },
        "id": "x7mBNryAhOSD",
        "outputId": "b458cb3c-8b7d-46ce-e144-7966dbdc9d56"
      },
      "execution_count": 69,
      "outputs": [
        {
          "output_type": "stream",
          "name": "stdout",
          "text": [
            "max_depth=1 평균 : 0.776536312849162\n",
            "max_depth=2 평균 : 0.7206703910614525\n",
            "max_depth=3 평균 : 0.8100558659217877\n",
            "max_depth=4 평균 : 0.7988826815642458\n",
            "max_depth=5 평균 : 0.7988826815642458\n",
            "max_depth=6 평균 : 0.7541899441340782\n",
            "max_depth=7 평균 : 0.7541899441340782\n",
            "max_depth=8 평균 : 0.7374301675977654\n",
            "max_depth=9 평균 : 0.7206703910614525\n",
            "max_depth=10 평균 : 0.7206703910614525\n",
            "max_depth=11 평균 : 0.7374301675977654\n",
            "max_depth=12 평균 : 0.7486033519553073\n",
            "max_depth=13 평균 : 0.7262569832402235\n",
            "max_depth=14 평균 : 0.7150837988826816\n",
            "max_depth=15 평균 : 0.7150837988826816\n",
            "max_depth=16 평균 : 0.7430167597765364\n",
            "max_depth=17 평균 : 0.7541899441340782\n",
            "max_depth=18 평균 : 0.7430167597765364\n",
            "max_depth=19 평균 : 0.7430167597765364\n",
            "[0.8100558659217877, 0.7988826815642458, 0.7988826815642458, 0.776536312849162, 0.7541899441340782, 0.7541899441340782, 0.7541899441340782, 0.7486033519553073, 0.7430167597765364, 0.7430167597765364, 0.7430167597765364, 0.7374301675977654, 0.7374301675977654, 0.7262569832402235, 0.7206703910614525, 0.7206703910614525, 0.7206703910614525, 0.7150837988826816, 0.7150837988826816]\n"
          ]
        }
      ]
    },
    {
      "cell_type": "code",
      "source": [
        "xgbc = XGBC(n_estimators=100, max_depth=1, random_state=10) \n",
        "xgbc.fit(X_tr, y_tr) \n",
        "\n",
        "rfc = RandomForestClassifier(criterion='gini', max_depth=6, random_state=10) \n",
        "rfc.fit(X_tr, y_tr)\n",
        "  \n",
        "dtc = DT(max_depth=3, random_state = 10)\n",
        "dtc.fit(X_tr, y_tr)\n",
        "\n",
        "evc = Vot(estimators=[('XGBC', xgbc),('RFC', rfc),('DT', dtc)], voting='hard')   \n",
        "evc.fit(X_tr, y_tr) \n",
        "\n",
        "# 예측 (시험)\n",
        "evc_pred = evc.predict(X_val)           \n",
        "evc_pred "
      ],
      "metadata": {
        "colab": {
          "base_uri": "https://localhost:8080/"
        },
        "id": "Qwu2S2Xnlhyb",
        "outputId": "dd85c7c0-21b0-466a-bde9-aef24455c78c"
      },
      "execution_count": 44,
      "outputs": [
        {
          "output_type": "execute_result",
          "data": {
            "text/plain": [
              "array([0., 0., 0., 0., 1., 0., 0., 0., 1., 0., 1., 0., 1., 0., 1., 0., 0.,\n",
              "       1., 1., 1., 1., 0., 1., 0., 0., 1., 0., 0., 0., 0., 0., 0., 0., 0.,\n",
              "       0., 0., 1., 1., 0., 0., 1., 0., 0., 0., 0., 0., 0., 0., 1., 1., 0.,\n",
              "       0., 0., 1., 0., 0., 0., 0., 0., 0., 1., 0., 0., 0., 1., 1., 0., 1.,\n",
              "       0., 0., 0., 1., 0., 1., 1., 0., 0., 0., 1., 0., 0., 0., 0., 1., 0.,\n",
              "       0., 0., 0., 0., 0., 0., 0., 0., 0., 1., 1., 1., 0., 0., 0., 0., 1.,\n",
              "       0., 0., 0., 0., 0., 0., 0., 0., 0., 0., 0., 0., 0., 0., 0., 0., 1.,\n",
              "       0., 0., 0., 0., 0., 0., 1., 0., 0., 0., 1., 1., 0., 1., 0., 0., 0.,\n",
              "       0., 1., 0., 0., 0., 1., 0., 0., 0., 0., 0., 0., 1., 0., 0., 0., 0.,\n",
              "       0., 1., 1., 1., 1., 0., 1., 0., 1., 1., 0., 0., 0., 0., 0., 0., 1.,\n",
              "       0., 0., 1., 0., 0., 0., 0., 0., 0.])"
            ]
          },
          "metadata": {},
          "execution_count": 44
        }
      ]
    },
    {
      "cell_type": "code",
      "source": [
        "xgbc = XGBC(n_estimators=100, max_depth=1, random_state=10) \n",
        "xgbc.fit(X_tr, y_tr) \n",
        "\n",
        "# 예측 (시험)\n",
        "xgbc_pred = xgbc.predict(X_val)           \n",
        "xgbc_pred \n",
        "\n",
        "# 평가\n",
        "from sklearn.metrics import accuracy_score  \n",
        "accuracy_score(y_val, xgbc_pred)"
      ],
      "metadata": {
        "colab": {
          "base_uri": "https://localhost:8080/"
        },
        "id": "Xhrte0NGEvTQ",
        "outputId": "fe724f13-37ce-4a6b-8c6e-235ec9d782c5"
      },
      "execution_count": 40,
      "outputs": [
        {
          "output_type": "execute_result",
          "data": {
            "text/plain": [
              "0.8715083798882681"
            ]
          },
          "metadata": {},
          "execution_count": 40
        }
      ]
    },
    {
      "cell_type": "code",
      "source": [
        "X_train, X_test, y_train, y_test, columns, labels"
      ],
      "metadata": {
        "colab": {
          "base_uri": "https://localhost:8080/",
          "height": 173
        },
        "id": "J2pHfDrBNDl4",
        "outputId": "8550ebf7-c92e-459c-d478-5ce440f55dc0"
      },
      "execution_count": 48,
      "outputs": [
        {
          "output_type": "error",
          "ename": "NameError",
          "evalue": "ignored",
          "traceback": [
            "\u001b[0;31m---------------------------------------------------------------------------\u001b[0m",
            "\u001b[0;31mNameError\u001b[0m                                 Traceback (most recent call last)",
            "\u001b[0;32m<ipython-input-48-14b43040500f>\u001b[0m in \u001b[0;36m<module>\u001b[0;34m()\u001b[0m\n\u001b[0;32m----> 1\u001b[0;31m \u001b[0mX_train\u001b[0m\u001b[0;34m,\u001b[0m \u001b[0mX_test\u001b[0m\u001b[0;34m,\u001b[0m \u001b[0my_train\u001b[0m\u001b[0;34m,\u001b[0m \u001b[0my_test\u001b[0m\u001b[0;34m,\u001b[0m \u001b[0mcolumns\u001b[0m\u001b[0;34m,\u001b[0m \u001b[0mlabels\u001b[0m\u001b[0;34m\u001b[0m\u001b[0;34m\u001b[0m\u001b[0m\n\u001b[0m",
            "\u001b[0;31mNameError\u001b[0m: name 'y_test' is not defined"
          ]
        }
      ]
    },
    {
      "cell_type": "code",
      "source": [
        "# 제출용 파일 만들기\n",
        "\n",
        "y_test_pred = xgbc.predict(X_test)\n",
        "submission['Survived'] = y_test_pred.astype(int)\n",
        "\n",
        "submission.to_csv('/gdrive/My Drive/Colab Notebooks/titanic/submission_0628_3.csv', index=False)"
      ],
      "metadata": {
        "id": "_5v1T0wAdh0u"
      },
      "execution_count": 43,
      "outputs": []
    },
    {
      "cell_type": "code",
      "source": [
        ""
      ],
      "metadata": {
        "id": "0-m1gfQHddT5"
      },
      "execution_count": null,
      "outputs": []
    }
  ]
}